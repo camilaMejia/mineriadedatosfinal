{
 "cells": [
  {
   "cell_type": "code",
   "execution_count": 1,
   "metadata": {},
   "outputs": [],
   "source": [
    "import pandas as pd\n",
    "import numpy as np"
   ]
  },
  {
   "cell_type": "code",
   "execution_count": 2,
   "metadata": {},
   "outputs": [],
   "source": [
    "path_file_user_user = \"data/resultado_user_user.csv\"\n",
    "path_file_item_item = \"data/resultado_item_item_2.csv\"\n",
    "path_file_test = \"data/only_jams_test_2.csv\""
   ]
  },
  {
   "cell_type": "markdown",
   "metadata": {},
   "source": [
    "## Test"
   ]
  },
  {
   "cell_type": "code",
   "execution_count": 3,
   "metadata": {},
   "outputs": [],
   "source": [
    "test = pd.read_csv(path_file_test)\n",
    "test.drop(['Unnamed: 0'], axis=1,inplace = True)"
   ]
  },
  {
   "cell_type": "code",
   "execution_count": 4,
   "metadata": {},
   "outputs": [
    {
     "data": {
      "text/html": [
       "<div>\n",
       "<style scoped>\n",
       "    .dataframe tbody tr th:only-of-type {\n",
       "        vertical-align: middle;\n",
       "    }\n",
       "\n",
       "    .dataframe tbody tr th {\n",
       "        vertical-align: top;\n",
       "    }\n",
       "\n",
       "    .dataframe thead th {\n",
       "        text-align: right;\n",
       "    }\n",
       "</style>\n",
       "<table border=\"1\" class=\"dataframe\">\n",
       "  <thead>\n",
       "    <tr style=\"text-align: right;\">\n",
       "      <th></th>\n",
       "      <th>user_id</th>\n",
       "      <th>song_id</th>\n",
       "    </tr>\n",
       "  </thead>\n",
       "  <tbody>\n",
       "    <tr>\n",
       "      <th>0</th>\n",
       "      <td>0087ff24898df109af292b46cf5e54687bd084ed</td>\n",
       "      <td>SOGBOQX12A8C139DF7</td>\n",
       "    </tr>\n",
       "    <tr>\n",
       "      <th>1</th>\n",
       "      <td>00e0bff6727775a4da442c48b6586d8fa7205579</td>\n",
       "      <td>SOGYPGP12AB018223E</td>\n",
       "    </tr>\n",
       "    <tr>\n",
       "      <th>2</th>\n",
       "      <td>06261b0e16ca2158051b6f8a56e039d799bbbe1a</td>\n",
       "      <td>SOOBUXN12AB01887FA</td>\n",
       "    </tr>\n",
       "    <tr>\n",
       "      <th>3</th>\n",
       "      <td>065152d683cde51e15a3c1d9597650b16e37d972</td>\n",
       "      <td>SOKQBDZ12AB018019D</td>\n",
       "    </tr>\n",
       "    <tr>\n",
       "      <th>4</th>\n",
       "      <td>065152d683cde51e15a3c1d9597650b16e37d972</td>\n",
       "      <td>SOLLNRI12AB0187563</td>\n",
       "    </tr>\n",
       "  </tbody>\n",
       "</table>\n",
       "</div>"
      ],
      "text/plain": [
       "                                    user_id             song_id\n",
       "0  0087ff24898df109af292b46cf5e54687bd084ed  SOGBOQX12A8C139DF7\n",
       "1  00e0bff6727775a4da442c48b6586d8fa7205579  SOGYPGP12AB018223E\n",
       "2  06261b0e16ca2158051b6f8a56e039d799bbbe1a  SOOBUXN12AB01887FA\n",
       "3  065152d683cde51e15a3c1d9597650b16e37d972  SOKQBDZ12AB018019D\n",
       "4  065152d683cde51e15a3c1d9597650b16e37d972  SOLLNRI12AB0187563"
      ]
     },
     "execution_count": 4,
     "metadata": {},
     "output_type": "execute_result"
    }
   ],
   "source": [
    "test.head()"
   ]
  },
  {
   "cell_type": "code",
   "execution_count": 20,
   "metadata": {},
   "outputs": [
    {
     "data": {
      "text/plain": [
       "54579"
      ]
     },
     "execution_count": 20,
     "metadata": {},
     "output_type": "execute_result"
    }
   ],
   "source": [
    "len(test)"
   ]
  },
  {
   "cell_type": "code",
   "execution_count": 5,
   "metadata": {},
   "outputs": [],
   "source": [
    "test_by_user = test.groupby(\"user_id\").agg({\"song_id\": lambda x: set(x)}).reset_index()"
   ]
  },
  {
   "cell_type": "code",
   "execution_count": 6,
   "metadata": {},
   "outputs": [
    {
     "data": {
      "text/html": [
       "<div>\n",
       "<style scoped>\n",
       "    .dataframe tbody tr th:only-of-type {\n",
       "        vertical-align: middle;\n",
       "    }\n",
       "\n",
       "    .dataframe tbody tr th {\n",
       "        vertical-align: top;\n",
       "    }\n",
       "\n",
       "    .dataframe thead th {\n",
       "        text-align: right;\n",
       "    }\n",
       "</style>\n",
       "<table border=\"1\" class=\"dataframe\">\n",
       "  <thead>\n",
       "    <tr style=\"text-align: right;\">\n",
       "      <th></th>\n",
       "      <th>user_id</th>\n",
       "      <th>song_id</th>\n",
       "    </tr>\n",
       "  </thead>\n",
       "  <tbody>\n",
       "    <tr>\n",
       "      <th>0</th>\n",
       "      <td>00003a4459f33b92906be11abe0e93efc423c0ff</td>\n",
       "      <td>{SOWVBDQ12A8C13503D}</td>\n",
       "    </tr>\n",
       "    <tr>\n",
       "      <th>1</th>\n",
       "      <td>00005c6177188f12fb5e2e82cdbd93e8a3f35e64</td>\n",
       "      <td>{SORGGRV12A8AE477C0}</td>\n",
       "    </tr>\n",
       "    <tr>\n",
       "      <th>2</th>\n",
       "      <td>000b474f815bcff17a4bc9ce5324f9352dafe07d</td>\n",
       "      <td>{SOVHUFT12AAA15FD32, SOPXNZK12A8C13B49D}</td>\n",
       "    </tr>\n",
       "    <tr>\n",
       "      <th>3</th>\n",
       "      <td>000e2c2a8c7870ff9121f212b35c8b3a20cc0e67</td>\n",
       "      <td>{SOTIVSJ12A6310DA82, SOQZYQH12A8AE468E5}</td>\n",
       "    </tr>\n",
       "    <tr>\n",
       "      <th>4</th>\n",
       "      <td>000ebc858861aca26bac9b49f650ed424cf882fc</td>\n",
       "      <td>{SOPEPDC12A6D4F7599, SONLPYY12A8C13FFA6, SOYZF...</td>\n",
       "    </tr>\n",
       "  </tbody>\n",
       "</table>\n",
       "</div>"
      ],
      "text/plain": [
       "                                    user_id  \\\n",
       "0  00003a4459f33b92906be11abe0e93efc423c0ff   \n",
       "1  00005c6177188f12fb5e2e82cdbd93e8a3f35e64   \n",
       "2  000b474f815bcff17a4bc9ce5324f9352dafe07d   \n",
       "3  000e2c2a8c7870ff9121f212b35c8b3a20cc0e67   \n",
       "4  000ebc858861aca26bac9b49f650ed424cf882fc   \n",
       "\n",
       "                                             song_id  \n",
       "0                               {SOWVBDQ12A8C13503D}  \n",
       "1                               {SORGGRV12A8AE477C0}  \n",
       "2           {SOVHUFT12AAA15FD32, SOPXNZK12A8C13B49D}  \n",
       "3           {SOTIVSJ12A6310DA82, SOQZYQH12A8AE468E5}  \n",
       "4  {SOPEPDC12A6D4F7599, SONLPYY12A8C13FFA6, SOYZF...  "
      ]
     },
     "execution_count": 6,
     "metadata": {},
     "output_type": "execute_result"
    }
   ],
   "source": [
    "test_by_user.head()"
   ]
  },
  {
   "cell_type": "code",
   "execution_count": 7,
   "metadata": {},
   "outputs": [],
   "source": [
    "def intersection_col(x):\n",
    "    set1 = x[\"recomendacion\"]\n",
    "    set2 = x[\"song_id\"]\n",
    "    return set1.intersection(set2)"
   ]
  },
  {
   "cell_type": "code",
   "execution_count": 8,
   "metadata": {},
   "outputs": [],
   "source": [
    "def sensibilidad(x):\n",
    "    aux_len = len(x[\"interseccion\"])\n",
    "    aux_tot = len(x[\"song_id\"])\n",
    "    return aux_len/aux_tot"
   ]
  },
  {
   "cell_type": "markdown",
   "metadata": {},
   "source": [
    "## User - user"
   ]
  },
  {
   "cell_type": "code",
   "execution_count": 9,
   "metadata": {},
   "outputs": [],
   "source": [
    "user_res = pd.read_csv(path_file_user_user)\n",
    "user_res.drop(['Unnamed: 0'], axis=1,inplace = True)"
   ]
  },
  {
   "cell_type": "code",
   "execution_count": 10,
   "metadata": {},
   "outputs": [
    {
     "data": {
      "text/html": [
       "<div>\n",
       "<style scoped>\n",
       "    .dataframe tbody tr th:only-of-type {\n",
       "        vertical-align: middle;\n",
       "    }\n",
       "\n",
       "    .dataframe tbody tr th {\n",
       "        vertical-align: top;\n",
       "    }\n",
       "\n",
       "    .dataframe thead th {\n",
       "        text-align: right;\n",
       "    }\n",
       "</style>\n",
       "<table border=\"1\" class=\"dataframe\">\n",
       "  <thead>\n",
       "    <tr style=\"text-align: right;\">\n",
       "      <th></th>\n",
       "      <th>user_id</th>\n",
       "      <th>recomendacion</th>\n",
       "    </tr>\n",
       "  </thead>\n",
       "  <tbody>\n",
       "    <tr>\n",
       "      <th>0</th>\n",
       "      <td>0087ff24898df109af292b46cf5e54687bd084ed</td>\n",
       "      <td>['SOWKYUB12A8C1440CB', 'SODLAPJ12A8C142002', '...</td>\n",
       "    </tr>\n",
       "    <tr>\n",
       "      <th>1</th>\n",
       "      <td>0097e6d8f988dc58f2cc3849400594989209cd30</td>\n",
       "      <td>['SOTELBF12A6701FA4A', 'SOTRLCA12AF72A2D03', '...</td>\n",
       "    </tr>\n",
       "    <tr>\n",
       "      <th>2</th>\n",
       "      <td>00ba4707e90378f254d7625ace448f1c699c97d5</td>\n",
       "      <td>['SOFYCAM12A58A7A45B', 'SOEDXFM12A8C1459E9', '...</td>\n",
       "    </tr>\n",
       "    <tr>\n",
       "      <th>3</th>\n",
       "      <td>00e0bff6727775a4da442c48b6586d8fa7205579</td>\n",
       "      <td>['SOXWYZP12AF72A42A6', 'SOLWZVR12AB01849C6', '...</td>\n",
       "    </tr>\n",
       "    <tr>\n",
       "      <th>4</th>\n",
       "      <td>028962a2d2b3619d8dd1cc66bc76ed7f102dc28b</td>\n",
       "      <td>['SOHEMBB12A6701E907', 'SOKSNTY12A8C1380FB', '...</td>\n",
       "    </tr>\n",
       "  </tbody>\n",
       "</table>\n",
       "</div>"
      ],
      "text/plain": [
       "                                    user_id  \\\n",
       "0  0087ff24898df109af292b46cf5e54687bd084ed   \n",
       "1  0097e6d8f988dc58f2cc3849400594989209cd30   \n",
       "2  00ba4707e90378f254d7625ace448f1c699c97d5   \n",
       "3  00e0bff6727775a4da442c48b6586d8fa7205579   \n",
       "4  028962a2d2b3619d8dd1cc66bc76ed7f102dc28b   \n",
       "\n",
       "                                       recomendacion  \n",
       "0  ['SOWKYUB12A8C1440CB', 'SODLAPJ12A8C142002', '...  \n",
       "1  ['SOTELBF12A6701FA4A', 'SOTRLCA12AF72A2D03', '...  \n",
       "2  ['SOFYCAM12A58A7A45B', 'SOEDXFM12A8C1459E9', '...  \n",
       "3  ['SOXWYZP12AF72A42A6', 'SOLWZVR12AB01849C6', '...  \n",
       "4  ['SOHEMBB12A6701E907', 'SOKSNTY12A8C1380FB', '...  "
      ]
     },
     "execution_count": 10,
     "metadata": {},
     "output_type": "execute_result"
    }
   ],
   "source": [
    "user_res.head()"
   ]
  },
  {
   "cell_type": "code",
   "execution_count": 11,
   "metadata": {},
   "outputs": [
    {
     "data": {
      "text/html": [
       "<div>\n",
       "<style scoped>\n",
       "    .dataframe tbody tr th:only-of-type {\n",
       "        vertical-align: middle;\n",
       "    }\n",
       "\n",
       "    .dataframe tbody tr th {\n",
       "        vertical-align: top;\n",
       "    }\n",
       "\n",
       "    .dataframe thead th {\n",
       "        text-align: right;\n",
       "    }\n",
       "</style>\n",
       "<table border=\"1\" class=\"dataframe\">\n",
       "  <thead>\n",
       "    <tr style=\"text-align: right;\">\n",
       "      <th></th>\n",
       "      <th>user_id</th>\n",
       "      <th>song_id</th>\n",
       "      <th>recomendacion</th>\n",
       "    </tr>\n",
       "  </thead>\n",
       "  <tbody>\n",
       "    <tr>\n",
       "      <th>0</th>\n",
       "      <td>00003a4459f33b92906be11abe0e93efc423c0ff</td>\n",
       "      <td>{SOWVBDQ12A8C13503D}</td>\n",
       "      <td>['SOTVLQY12A58A798C2', 'SOCIGMX12A8C144150', '...</td>\n",
       "    </tr>\n",
       "    <tr>\n",
       "      <th>3</th>\n",
       "      <td>000e2c2a8c7870ff9121f212b35c8b3a20cc0e67</td>\n",
       "      <td>{SOTIVSJ12A6310DA82, SOQZYQH12A8AE468E5}</td>\n",
       "      <td>['SOTVLQY12A58A798C2', 'SOTAIQR12A8C13403B', '...</td>\n",
       "    </tr>\n",
       "    <tr>\n",
       "      <th>4</th>\n",
       "      <td>000ebc858861aca26bac9b49f650ed424cf882fc</td>\n",
       "      <td>{SOPEPDC12A6D4F7599, SONLPYY12A8C13FFA6, SOYZF...</td>\n",
       "      <td>['SOSRERB12A8C139735', 'SOOFYTN12A6D4F9B35', '...</td>\n",
       "    </tr>\n",
       "    <tr>\n",
       "      <th>5</th>\n",
       "      <td>000ef25cc955ad5841c915d269432eea41f4a1a5</td>\n",
       "      <td>{SOLEMPP12A8AE4640B}</td>\n",
       "      <td>['SOWUZYJ12AB01863AC', 'SOFGSSS12A67020463', '...</td>\n",
       "    </tr>\n",
       "    <tr>\n",
       "      <th>6</th>\n",
       "      <td>00125672fad06bc57f5a4304cceea9effab07839</td>\n",
       "      <td>{SOAUWYT12A81C206F1, SOIZFTE12AB0186842}</td>\n",
       "      <td>['SODEGIQ12A6D4FC6E3', 'SOVQJRY12A81C210C0', '...</td>\n",
       "    </tr>\n",
       "  </tbody>\n",
       "</table>\n",
       "</div>"
      ],
      "text/plain": [
       "                                    user_id  \\\n",
       "0  00003a4459f33b92906be11abe0e93efc423c0ff   \n",
       "3  000e2c2a8c7870ff9121f212b35c8b3a20cc0e67   \n",
       "4  000ebc858861aca26bac9b49f650ed424cf882fc   \n",
       "5  000ef25cc955ad5841c915d269432eea41f4a1a5   \n",
       "6  00125672fad06bc57f5a4304cceea9effab07839   \n",
       "\n",
       "                                             song_id  \\\n",
       "0                               {SOWVBDQ12A8C13503D}   \n",
       "3           {SOTIVSJ12A6310DA82, SOQZYQH12A8AE468E5}   \n",
       "4  {SOPEPDC12A6D4F7599, SONLPYY12A8C13FFA6, SOYZF...   \n",
       "5                               {SOLEMPP12A8AE4640B}   \n",
       "6           {SOAUWYT12A81C206F1, SOIZFTE12AB0186842}   \n",
       "\n",
       "                                       recomendacion  \n",
       "0  ['SOTVLQY12A58A798C2', 'SOCIGMX12A8C144150', '...  \n",
       "3  ['SOTVLQY12A58A798C2', 'SOTAIQR12A8C13403B', '...  \n",
       "4  ['SOSRERB12A8C139735', 'SOOFYTN12A6D4F9B35', '...  \n",
       "5  ['SOWUZYJ12AB01863AC', 'SOFGSSS12A67020463', '...  \n",
       "6  ['SODEGIQ12A6D4FC6E3', 'SOVQJRY12A81C210C0', '...  "
      ]
     },
     "execution_count": 11,
     "metadata": {},
     "output_type": "execute_result"
    }
   ],
   "source": [
    "test_user = test_by_user.merge(user_res, how = \"left\", on = \"user_id\").dropna()\n",
    "test_user.head()"
   ]
  },
  {
   "cell_type": "code",
   "execution_count": 12,
   "metadata": {},
   "outputs": [],
   "source": [
    "test_user[\"recomendacion\"] = test_user[\"recomendacion\"].str.replace(\"[\",\"\").str.replace(\"]\",\"\").str.replace(\"'\",\"\").str.split(\",\")"
   ]
  },
  {
   "cell_type": "code",
   "execution_count": 13,
   "metadata": {},
   "outputs": [],
   "source": [
    "test_user[\"recomendacion\"] = test_user[\"recomendacion\"].apply(lambda x:set([w.strip() for w in x]))"
   ]
  },
  {
   "cell_type": "code",
   "execution_count": 14,
   "metadata": {},
   "outputs": [
    {
     "data": {
      "text/html": [
       "<div>\n",
       "<style scoped>\n",
       "    .dataframe tbody tr th:only-of-type {\n",
       "        vertical-align: middle;\n",
       "    }\n",
       "\n",
       "    .dataframe tbody tr th {\n",
       "        vertical-align: top;\n",
       "    }\n",
       "\n",
       "    .dataframe thead th {\n",
       "        text-align: right;\n",
       "    }\n",
       "</style>\n",
       "<table border=\"1\" class=\"dataframe\">\n",
       "  <thead>\n",
       "    <tr style=\"text-align: right;\">\n",
       "      <th></th>\n",
       "      <th>user_id</th>\n",
       "      <th>song_id</th>\n",
       "      <th>recomendacion</th>\n",
       "    </tr>\n",
       "  </thead>\n",
       "  <tbody>\n",
       "    <tr>\n",
       "      <th>0</th>\n",
       "      <td>00003a4459f33b92906be11abe0e93efc423c0ff</td>\n",
       "      <td>{SOWVBDQ12A8C13503D}</td>\n",
       "      <td>{SORWBFK12AF72A4BA9, SOOLPFK12A58A7BDE3, SOWKG...</td>\n",
       "    </tr>\n",
       "    <tr>\n",
       "      <th>3</th>\n",
       "      <td>000e2c2a8c7870ff9121f212b35c8b3a20cc0e67</td>\n",
       "      <td>{SOTIVSJ12A6310DA82, SOQZYQH12A8AE468E5}</td>\n",
       "      <td>{SOSELMV12A6D4FCF5A, SOCSCRC12AB017C60C, SOOBN...</td>\n",
       "    </tr>\n",
       "    <tr>\n",
       "      <th>4</th>\n",
       "      <td>000ebc858861aca26bac9b49f650ed424cf882fc</td>\n",
       "      <td>{SOPEPDC12A6D4F7599, SONLPYY12A8C13FFA6, SOYZF...</td>\n",
       "      <td>{SOJZYUB12A67020883, SOCSUOL12AAA8C6707, SOPUC...</td>\n",
       "    </tr>\n",
       "    <tr>\n",
       "      <th>5</th>\n",
       "      <td>000ef25cc955ad5841c915d269432eea41f4a1a5</td>\n",
       "      <td>{SOLEMPP12A8AE4640B}</td>\n",
       "      <td>{SORCNJV12A58A7A6EF, SOKYYQU12A8AE46E26, SOIBT...</td>\n",
       "    </tr>\n",
       "    <tr>\n",
       "      <th>6</th>\n",
       "      <td>00125672fad06bc57f5a4304cceea9effab07839</td>\n",
       "      <td>{SOAUWYT12A81C206F1, SOIZFTE12AB0186842}</td>\n",
       "      <td>{SOFZZDU12AF72A1998, SOTFEIP12AB017ACB0, SOVAJ...</td>\n",
       "    </tr>\n",
       "  </tbody>\n",
       "</table>\n",
       "</div>"
      ],
      "text/plain": [
       "                                    user_id  \\\n",
       "0  00003a4459f33b92906be11abe0e93efc423c0ff   \n",
       "3  000e2c2a8c7870ff9121f212b35c8b3a20cc0e67   \n",
       "4  000ebc858861aca26bac9b49f650ed424cf882fc   \n",
       "5  000ef25cc955ad5841c915d269432eea41f4a1a5   \n",
       "6  00125672fad06bc57f5a4304cceea9effab07839   \n",
       "\n",
       "                                             song_id  \\\n",
       "0                               {SOWVBDQ12A8C13503D}   \n",
       "3           {SOTIVSJ12A6310DA82, SOQZYQH12A8AE468E5}   \n",
       "4  {SOPEPDC12A6D4F7599, SONLPYY12A8C13FFA6, SOYZF...   \n",
       "5                               {SOLEMPP12A8AE4640B}   \n",
       "6           {SOAUWYT12A81C206F1, SOIZFTE12AB0186842}   \n",
       "\n",
       "                                       recomendacion  \n",
       "0  {SORWBFK12AF72A4BA9, SOOLPFK12A58A7BDE3, SOWKG...  \n",
       "3  {SOSELMV12A6D4FCF5A, SOCSCRC12AB017C60C, SOOBN...  \n",
       "4  {SOJZYUB12A67020883, SOCSUOL12AAA8C6707, SOPUC...  \n",
       "5  {SORCNJV12A58A7A6EF, SOKYYQU12A8AE46E26, SOIBT...  \n",
       "6  {SOFZZDU12AF72A1998, SOTFEIP12AB017ACB0, SOVAJ...  "
      ]
     },
     "execution_count": 14,
     "metadata": {},
     "output_type": "execute_result"
    }
   ],
   "source": [
    "test_user.head()"
   ]
  },
  {
   "cell_type": "code",
   "execution_count": 15,
   "metadata": {},
   "outputs": [],
   "source": [
    "test_user[\"interseccion\"] = test_user.apply(intersection_col,axis = 1)"
   ]
  },
  {
   "cell_type": "code",
   "execution_count": 16,
   "metadata": {},
   "outputs": [],
   "source": [
    "test_user[\"interseccion_count\"] = test_user[\"interseccion\"].apply(lambda x: len(x))"
   ]
  },
  {
   "cell_type": "code",
   "execution_count": 34,
   "metadata": {},
   "outputs": [],
   "source": [
    "test_user[\"recomendacion_count\"] = test_user[\"recomendacion\"].apply(lambda x: len(x))"
   ]
  },
  {
   "cell_type": "code",
   "execution_count": 17,
   "metadata": {},
   "outputs": [],
   "source": [
    "test_user[\"sensibilidad\"] = test_user.apply(sensibilidad,axis = 1)"
   ]
  },
  {
   "cell_type": "markdown",
   "metadata": {},
   "source": [
    "## La sensibilidad global"
   ]
  },
  {
   "cell_type": "code",
   "execution_count": 22,
   "metadata": {},
   "outputs": [
    {
     "data": {
      "text/plain": [
       "0.2525147034573737"
      ]
     },
     "execution_count": 22,
     "metadata": {},
     "output_type": "execute_result"
    }
   ],
   "source": [
    "test_user[\"interseccion_count\"].sum()/len(test)"
   ]
  },
  {
   "cell_type": "markdown",
   "metadata": {},
   "source": [
    "## Precisión"
   ]
  },
  {
   "cell_type": "code",
   "execution_count": 35,
   "metadata": {},
   "outputs": [
    {
     "data": {
      "text/plain": [
       "0.008181423147336853"
      ]
     },
     "execution_count": 35,
     "metadata": {},
     "output_type": "execute_result"
    }
   ],
   "source": [
    "test_user[\"interseccion_count\"].sum()/test_user[\"recomendacion_count\"].sum()"
   ]
  },
  {
   "cell_type": "code",
   "execution_count": 15,
   "metadata": {
    "scrolled": false
   },
   "outputs": [
    {
     "data": {
      "text/plain": [
       "<matplotlib.axes._subplots.AxesSubplot at 0x1936655db00>"
      ]
     },
     "execution_count": 15,
     "metadata": {},
     "output_type": "execute_result"
    },
    {
     "data": {
      "image/png": "[encoded data removed]",
      "text/plain": [
       "<Figure size 432x288 with 1 Axes>"
      ]
     },
     "metadata": {
      "needs_background": "light"
     },
     "output_type": "display_data"
    }
   ],
   "source": [
    "test_user[\"sensibilidad\"].hist()"
   ]
  },
  {
   "cell_type": "code",
   "execution_count": 16,
   "metadata": {},
   "outputs": [
    {
     "data": {
      "text/plain": [
       "count    26113.000000\n",
       "mean         0.268339\n",
       "std          0.393706\n",
       "min          0.000000\n",
       "25%          0.000000\n",
       "50%          0.000000\n",
       "75%          0.500000\n",
       "max          1.000000\n",
       "Name: sensibilidad, dtype: float64"
      ]
     },
     "execution_count": 16,
     "metadata": {},
     "output_type": "execute_result"
    }
   ],
   "source": [
    "test_user[\"sensibilidad\"].describe()"
   ]
  },
  {
   "cell_type": "markdown",
   "metadata": {},
   "source": [
    "## Item - item"
   ]
  },
  {
   "cell_type": "code",
   "execution_count": 23,
   "metadata": {},
   "outputs": [],
   "source": [
    "item_res = pd.read_csv(path_file_item_item)\n",
    "item_res.drop(['Unnamed: 0'], axis=1,inplace = True)"
   ]
  },
  {
   "cell_type": "code",
   "execution_count": 24,
   "metadata": {
    "scrolled": true
   },
   "outputs": [
    {
     "data": {
      "text/html": [
       "<div>\n",
       "<style scoped>\n",
       "    .dataframe tbody tr th:only-of-type {\n",
       "        vertical-align: middle;\n",
       "    }\n",
       "\n",
       "    .dataframe tbody tr th {\n",
       "        vertical-align: top;\n",
       "    }\n",
       "\n",
       "    .dataframe thead th {\n",
       "        text-align: right;\n",
       "    }\n",
       "</style>\n",
       "<table border=\"1\" class=\"dataframe\">\n",
       "  <thead>\n",
       "    <tr style=\"text-align: right;\">\n",
       "      <th></th>\n",
       "      <th>user_id</th>\n",
       "      <th>recomendacion</th>\n",
       "    </tr>\n",
       "  </thead>\n",
       "  <tbody>\n",
       "    <tr>\n",
       "      <th>0</th>\n",
       "      <td>0087ff24898df109af292b46cf5e54687bd084ed</td>\n",
       "      <td>['SOPOANU12A8AE48C9B', 'SOMHTUR12A6D4F8764', '...</td>\n",
       "    </tr>\n",
       "    <tr>\n",
       "      <th>1</th>\n",
       "      <td>0097e6d8f988dc58f2cc3849400594989209cd30</td>\n",
       "      <td>['SOTODTI12A8C1402D3', 'SOETUOD12AB0185397', '...</td>\n",
       "    </tr>\n",
       "    <tr>\n",
       "      <th>2</th>\n",
       "      <td>00ba4707e90378f254d7625ace448f1c699c97d5</td>\n",
       "      <td>['SOXEUDZ12A8C13145B', 'SOGFXGZ12A67AE1F23', '...</td>\n",
       "    </tr>\n",
       "    <tr>\n",
       "      <th>3</th>\n",
       "      <td>00e0bff6727775a4da442c48b6586d8fa7205579</td>\n",
       "      <td>['SOKUPAO12AB018D576', 'SOSXLTC12AF72A7F54', '...</td>\n",
       "    </tr>\n",
       "    <tr>\n",
       "      <th>4</th>\n",
       "      <td>028962a2d2b3619d8dd1cc66bc76ed7f102dc28b</td>\n",
       "      <td>['SOXEYIE12AB0180212', 'SOEUANM12A8AE47FD4', '...</td>\n",
       "    </tr>\n",
       "  </tbody>\n",
       "</table>\n",
       "</div>"
      ],
      "text/plain": [
       "                                    user_id  \\\n",
       "0  0087ff24898df109af292b46cf5e54687bd084ed   \n",
       "1  0097e6d8f988dc58f2cc3849400594989209cd30   \n",
       "2  00ba4707e90378f254d7625ace448f1c699c97d5   \n",
       "3  00e0bff6727775a4da442c48b6586d8fa7205579   \n",
       "4  028962a2d2b3619d8dd1cc66bc76ed7f102dc28b   \n",
       "\n",
       "                                       recomendacion  \n",
       "0  ['SOPOANU12A8AE48C9B', 'SOMHTUR12A6D4F8764', '...  \n",
       "1  ['SOTODTI12A8C1402D3', 'SOETUOD12AB0185397', '...  \n",
       "2  ['SOXEUDZ12A8C13145B', 'SOGFXGZ12A67AE1F23', '...  \n",
       "3  ['SOKUPAO12AB018D576', 'SOSXLTC12AF72A7F54', '...  \n",
       "4  ['SOXEYIE12AB0180212', 'SOEUANM12A8AE47FD4', '...  "
      ]
     },
     "execution_count": 24,
     "metadata": {},
     "output_type": "execute_result"
    }
   ],
   "source": [
    "item_res.head()"
   ]
  },
  {
   "cell_type": "code",
   "execution_count": 25,
   "metadata": {},
   "outputs": [
    {
     "data": {
      "text/html": [
       "<div>\n",
       "<style scoped>\n",
       "    .dataframe tbody tr th:only-of-type {\n",
       "        vertical-align: middle;\n",
       "    }\n",
       "\n",
       "    .dataframe tbody tr th {\n",
       "        vertical-align: top;\n",
       "    }\n",
       "\n",
       "    .dataframe thead th {\n",
       "        text-align: right;\n",
       "    }\n",
       "</style>\n",
       "<table border=\"1\" class=\"dataframe\">\n",
       "  <thead>\n",
       "    <tr style=\"text-align: right;\">\n",
       "      <th></th>\n",
       "      <th>user_id</th>\n",
       "      <th>song_id</th>\n",
       "      <th>recomendacion</th>\n",
       "    </tr>\n",
       "  </thead>\n",
       "  <tbody>\n",
       "    <tr>\n",
       "      <th>0</th>\n",
       "      <td>00003a4459f33b92906be11abe0e93efc423c0ff</td>\n",
       "      <td>{SOWVBDQ12A8C13503D}</td>\n",
       "      <td>['SOTLQWL12AB018167B', 'SOFCXNF12A58A7CF16', '...</td>\n",
       "    </tr>\n",
       "    <tr>\n",
       "      <th>3</th>\n",
       "      <td>000e2c2a8c7870ff9121f212b35c8b3a20cc0e67</td>\n",
       "      <td>{SOTIVSJ12A6310DA82, SOQZYQH12A8AE468E5}</td>\n",
       "      <td>['SOFGSSS12A67020463', 'SOGUWGW12A6D4F4789', '...</td>\n",
       "    </tr>\n",
       "    <tr>\n",
       "      <th>4</th>\n",
       "      <td>000ebc858861aca26bac9b49f650ed424cf882fc</td>\n",
       "      <td>{SOPEPDC12A6D4F7599, SONLPYY12A8C13FFA6, SOYZF...</td>\n",
       "      <td>['SOSIPFF12AB01853C6', 'SOOCEUK12AB018FDBB', '...</td>\n",
       "    </tr>\n",
       "    <tr>\n",
       "      <th>5</th>\n",
       "      <td>000ef25cc955ad5841c915d269432eea41f4a1a5</td>\n",
       "      <td>{SOLEMPP12A8AE4640B}</td>\n",
       "      <td>['SOPULXR12A6D4F920D', 'SOMTBXX12AF729F5A6', '...</td>\n",
       "    </tr>\n",
       "    <tr>\n",
       "      <th>6</th>\n",
       "      <td>00125672fad06bc57f5a4304cceea9effab07839</td>\n",
       "      <td>{SOAUWYT12A81C206F1, SOIZFTE12AB0186842}</td>\n",
       "      <td>['SOZVVRE12A8C143150', 'SOSXLTC12AF72A7F54', '...</td>\n",
       "    </tr>\n",
       "  </tbody>\n",
       "</table>\n",
       "</div>"
      ],
      "text/plain": [
       "                                    user_id  \\\n",
       "0  00003a4459f33b92906be11abe0e93efc423c0ff   \n",
       "3  000e2c2a8c7870ff9121f212b35c8b3a20cc0e67   \n",
       "4  000ebc858861aca26bac9b49f650ed424cf882fc   \n",
       "5  000ef25cc955ad5841c915d269432eea41f4a1a5   \n",
       "6  00125672fad06bc57f5a4304cceea9effab07839   \n",
       "\n",
       "                                             song_id  \\\n",
       "0                               {SOWVBDQ12A8C13503D}   \n",
       "3           {SOTIVSJ12A6310DA82, SOQZYQH12A8AE468E5}   \n",
       "4  {SOPEPDC12A6D4F7599, SONLPYY12A8C13FFA6, SOYZF...   \n",
       "5                               {SOLEMPP12A8AE4640B}   \n",
       "6           {SOAUWYT12A81C206F1, SOIZFTE12AB0186842}   \n",
       "\n",
       "                                       recomendacion  \n",
       "0  ['SOTLQWL12AB018167B', 'SOFCXNF12A58A7CF16', '...  \n",
       "3  ['SOFGSSS12A67020463', 'SOGUWGW12A6D4F4789', '...  \n",
       "4  ['SOSIPFF12AB01853C6', 'SOOCEUK12AB018FDBB', '...  \n",
       "5  ['SOPULXR12A6D4F920D', 'SOMTBXX12AF729F5A6', '...  \n",
       "6  ['SOZVVRE12A8C143150', 'SOSXLTC12AF72A7F54', '...  "
      ]
     },
     "execution_count": 25,
     "metadata": {},
     "output_type": "execute_result"
    }
   ],
   "source": [
    "test_item = test_by_user.merge(item_res, how = \"left\", on = \"user_id\").dropna()\n",
    "test_item.head()"
   ]
  },
  {
   "cell_type": "code",
   "execution_count": 26,
   "metadata": {},
   "outputs": [],
   "source": [
    "test_item[\"recomendacion\"] = test_item[\"recomendacion\"].str.replace(\"[\",\"\").str.replace(\"]\",\"\").str.replace(\"'\",\"\").str.split(\",\")"
   ]
  },
  {
   "cell_type": "code",
   "execution_count": 27,
   "metadata": {},
   "outputs": [],
   "source": [
    "test_item[\"recomendacion\"] = test_item[\"recomendacion\"].apply(lambda x:set([w.strip() for w in x]))"
   ]
  },
  {
   "cell_type": "code",
   "execution_count": 37,
   "metadata": {},
   "outputs": [],
   "source": [
    "test_item[\"recomendacion_count\"] = test_item[\"recomendacion\"].apply(lambda x: len(x))"
   ]
  },
  {
   "cell_type": "code",
   "execution_count": 28,
   "metadata": {
    "scrolled": true
   },
   "outputs": [
    {
     "data": {
      "text/plain": [
       "user_id                   00003a4459f33b92906be11abe0e93efc423c0ff\n",
       "song_id                                       {SOWVBDQ12A8C13503D}\n",
       "recomendacion    {SOPGPTD12A6310E032, SOUOIWT12A8C142D8C, SOAET...\n",
       "Name: 0, dtype: object"
      ]
     },
     "execution_count": 28,
     "metadata": {},
     "output_type": "execute_result"
    }
   ],
   "source": [
    "test_item.loc[0]"
   ]
  },
  {
   "cell_type": "code",
   "execution_count": 29,
   "metadata": {
    "scrolled": true
   },
   "outputs": [],
   "source": [
    "test_item[\"interseccion\"] = test_item.apply(intersection_col,axis = 1)"
   ]
  },
  {
   "cell_type": "code",
   "execution_count": 30,
   "metadata": {},
   "outputs": [],
   "source": [
    "test_item[\"interseccion_count\"] = test_item[\"interseccion\"].apply(lambda x: len(x))"
   ]
  },
  {
   "cell_type": "code",
   "execution_count": 31,
   "metadata": {},
   "outputs": [],
   "source": [
    "test_item[\"sensibilidad\"] = test_item.apply(sensibilidad,axis = 1)"
   ]
  },
  {
   "cell_type": "code",
   "execution_count": 32,
   "metadata": {
    "scrolled": true
   },
   "outputs": [
    {
     "data": {
      "text/html": [
       "<div>\n",
       "<style scoped>\n",
       "    .dataframe tbody tr th:only-of-type {\n",
       "        vertical-align: middle;\n",
       "    }\n",
       "\n",
       "    .dataframe tbody tr th {\n",
       "        vertical-align: top;\n",
       "    }\n",
       "\n",
       "    .dataframe thead th {\n",
       "        text-align: right;\n",
       "    }\n",
       "</style>\n",
       "<table border=\"1\" class=\"dataframe\">\n",
       "  <thead>\n",
       "    <tr style=\"text-align: right;\">\n",
       "      <th></th>\n",
       "      <th>user_id</th>\n",
       "      <th>song_id</th>\n",
       "      <th>recomendacion</th>\n",
       "      <th>interseccion</th>\n",
       "      <th>interseccion_count</th>\n",
       "      <th>sensibilidad</th>\n",
       "    </tr>\n",
       "  </thead>\n",
       "  <tbody>\n",
       "    <tr>\n",
       "      <th>0</th>\n",
       "      <td>00003a4459f33b92906be11abe0e93efc423c0ff</td>\n",
       "      <td>{SOWVBDQ12A8C13503D}</td>\n",
       "      <td>{SOPGPTD12A6310E032, SOUOIWT12A8C142D8C, SOAET...</td>\n",
       "      <td>{SOWVBDQ12A8C13503D}</td>\n",
       "      <td>1</td>\n",
       "      <td>1.0</td>\n",
       "    </tr>\n",
       "    <tr>\n",
       "      <th>3</th>\n",
       "      <td>000e2c2a8c7870ff9121f212b35c8b3a20cc0e67</td>\n",
       "      <td>{SOTIVSJ12A6310DA82, SOQZYQH12A8AE468E5}</td>\n",
       "      <td>{SOCVTLJ12A6310F0FD, SOGIMXX12A8C144DE6, SOSHY...</td>\n",
       "      <td>{SOTIVSJ12A6310DA82}</td>\n",
       "      <td>1</td>\n",
       "      <td>0.5</td>\n",
       "    </tr>\n",
       "    <tr>\n",
       "      <th>4</th>\n",
       "      <td>000ebc858861aca26bac9b49f650ed424cf882fc</td>\n",
       "      <td>{SOPEPDC12A6D4F7599, SONLPYY12A8C13FFA6, SOYZF...</td>\n",
       "      <td>{SOXDMTH12A58A80709, SOSHDXD12A8C1427A7, SOPCC...</td>\n",
       "      <td>{}</td>\n",
       "      <td>0</td>\n",
       "      <td>0.0</td>\n",
       "    </tr>\n",
       "    <tr>\n",
       "      <th>5</th>\n",
       "      <td>000ef25cc955ad5841c915d269432eea41f4a1a5</td>\n",
       "      <td>{SOLEMPP12A8AE4640B}</td>\n",
       "      <td>{SOQQTFV12A6701C5F6, SOTTNZU12A6D4FA237, SOWFP...</td>\n",
       "      <td>{}</td>\n",
       "      <td>0</td>\n",
       "      <td>0.0</td>\n",
       "    </tr>\n",
       "    <tr>\n",
       "      <th>6</th>\n",
       "      <td>00125672fad06bc57f5a4304cceea9effab07839</td>\n",
       "      <td>{SOAUWYT12A81C206F1, SOIZFTE12AB0186842}</td>\n",
       "      <td>{SOPUCYA12A8C13A694, SOUFTBI12AB0183F65, SOVDS...</td>\n",
       "      <td>{}</td>\n",
       "      <td>0</td>\n",
       "      <td>0.0</td>\n",
       "    </tr>\n",
       "  </tbody>\n",
       "</table>\n",
       "</div>"
      ],
      "text/plain": [
       "                                    user_id  \\\n",
       "0  00003a4459f33b92906be11abe0e93efc423c0ff   \n",
       "3  000e2c2a8c7870ff9121f212b35c8b3a20cc0e67   \n",
       "4  000ebc858861aca26bac9b49f650ed424cf882fc   \n",
       "5  000ef25cc955ad5841c915d269432eea41f4a1a5   \n",
       "6  00125672fad06bc57f5a4304cceea9effab07839   \n",
       "\n",
       "                                             song_id  \\\n",
       "0                               {SOWVBDQ12A8C13503D}   \n",
       "3           {SOTIVSJ12A6310DA82, SOQZYQH12A8AE468E5}   \n",
       "4  {SOPEPDC12A6D4F7599, SONLPYY12A8C13FFA6, SOYZF...   \n",
       "5                               {SOLEMPP12A8AE4640B}   \n",
       "6           {SOAUWYT12A81C206F1, SOIZFTE12AB0186842}   \n",
       "\n",
       "                                       recomendacion          interseccion  \\\n",
       "0  {SOPGPTD12A6310E032, SOUOIWT12A8C142D8C, SOAET...  {SOWVBDQ12A8C13503D}   \n",
       "3  {SOCVTLJ12A6310F0FD, SOGIMXX12A8C144DE6, SOSHY...  {SOTIVSJ12A6310DA82}   \n",
       "4  {SOXDMTH12A58A80709, SOSHDXD12A8C1427A7, SOPCC...                    {}   \n",
       "5  {SOQQTFV12A6701C5F6, SOTTNZU12A6D4FA237, SOWFP...                    {}   \n",
       "6  {SOPUCYA12A8C13A694, SOUFTBI12AB0183F65, SOVDS...                    {}   \n",
       "\n",
       "   interseccion_count  sensibilidad  \n",
       "0                   1           1.0  \n",
       "3                   1           0.5  \n",
       "4                   0           0.0  \n",
       "5                   0           0.0  \n",
       "6                   0           0.0  "
      ]
     },
     "execution_count": 32,
     "metadata": {},
     "output_type": "execute_result"
    }
   ],
   "source": [
    "test_item.head()"
   ]
  },
  {
   "cell_type": "markdown",
   "metadata": {},
   "source": [
    "## La sensibilidad global"
   ]
  },
  {
   "cell_type": "code",
   "execution_count": 33,
   "metadata": {},
   "outputs": [
    {
     "data": {
      "text/plain": [
       "0.177467524139321"
      ]
     },
     "execution_count": 33,
     "metadata": {},
     "output_type": "execute_result"
    }
   ],
   "source": [
    "test_item[\"interseccion_count\"].sum()/len(test)"
   ]
  },
  {
   "cell_type": "markdown",
   "metadata": {},
   "source": [
    "## Precisión"
   ]
  },
  {
   "cell_type": "code",
   "execution_count": 38,
   "metadata": {},
   "outputs": [
    {
     "data": {
      "text/plain": [
       "0.008546631466004066"
      ]
     },
     "execution_count": 38,
     "metadata": {},
     "output_type": "execute_result"
    }
   ],
   "source": [
    "test_item[\"interseccion_count\"].sum()/test_item[\"recomendacion_count\"].sum()"
   ]
  },
  {
   "cell_type": "code",
   "execution_count": 26,
   "metadata": {
    "scrolled": true
   },
   "outputs": [
    {
     "data": {
      "text/plain": [
       "<matplotlib.axes._subplots.AxesSubplot at 0x193641d69b0>"
      ]
     },
     "execution_count": 26,
     "metadata": {},
     "output_type": "execute_result"
    },
    {
     "data": {
      "image/png": "[encoded data removed]",
      "text/plain": [
       "<Figure size 432x288 with 1 Axes>"
      ]
     },
     "metadata": {
      "needs_background": "light"
     },
     "output_type": "display_data"
    }
   ],
   "source": [
    "test_item[\"sensibilidad\"].hist()"
   ]
  },
  {
   "cell_type": "code",
   "execution_count": 27,
   "metadata": {},
   "outputs": [
    {
     "data": {
      "text/plain": [
       "count    27822.000000\n",
       "mean         0.171703\n",
       "std          0.324568\n",
       "min          0.000000\n",
       "25%          0.000000\n",
       "50%          0.000000\n",
       "75%          0.250000\n",
       "max          1.000000\n",
       "Name: sensibilidad, dtype: float64"
      ]
     },
     "execution_count": 27,
     "metadata": {},
     "output_type": "execute_result"
    }
   ],
   "source": [
    "test_item[\"sensibilidad\"].describe()"
   ]
  }
 ],
 "metadata": {
  "kernelspec": {
   "display_name": "Python 3.7.0 64-bit ('venv': venv)",
   "language": "python",
   "name": "python37064bitvenvvenvdaf48916dcf246e3a7be6e1e84b56409"
  },
  "language_info": {
   "codemirror_mode": {
    "name": "ipython",
    "version": 3
   },
   "file_extension": ".py",
   "mimetype": "text/x-python",
   "name": "python",
   "nbconvert_exporter": "python",
   "pygments_lexer": "ipython3",
   "version": "3.7.0"
  }
 },
 "nbformat": 4,
 "nbformat_minor": 4
}
