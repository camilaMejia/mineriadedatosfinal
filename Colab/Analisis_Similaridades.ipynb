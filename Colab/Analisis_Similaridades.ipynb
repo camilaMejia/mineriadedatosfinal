{
  "nbformat": 4,
  "nbformat_minor": 0,
  "metadata": {
    "colab": {
      "name": "Analisis_correlaciones.ipynb",
      "provenance": [],
      "toc_visible": true
    },
    "kernelspec": {
      "name": "python3",
      "display_name": "Python 3"
    }
  },
  "cells": [
    {
      "cell_type": "code",
      "metadata": {
        "id": "YaSM80bsvrP_",
        "colab_type": "code",
        "outputId": "4ad6f30b-8e1d-4dfe-c474-d1c05d5ced58",
        "colab": {
          "base_uri": "https://localhost:8080/",
          "height": 411
        }
      },
      "source": [
        "!pip install pyspark\n",
        "!pip install -U -q PyDrive\n",
        "!apt install openjdk-8-jdk-headless -qq\n",
        "import os\n",
        "os.environ[\"JAVA_HOME\"] = \"/usr/lib/jvm/java-8-openjdk-amd64\"\n",
        "\n",
        "\n",
        "from pyspark.sql import *\n",
        "from pyspark.sql.functions import *\n",
        "from pyspark import SparkContext\n",
        "import seaborn as sns\n",
        "import pandas as pd\n",
        "from IPython.display import YouTubeVideo\n",
        "from google.colab import drive\n",
        "drive.mount('/content/drive')\n",
        "\n",
        "songs_metadata_file = 'https://static.turi.com/datasets/millionsong/song_data.csv'\n",
        "song_df_2 = pd.read_csv(songs_metadata_file)\n",
        "song_df_2['title']=song_df_2['title'].str.strip()\n",
        "song_same = pd.read_csv('drive/My Drive/Ms Ciencia de datos/song-sim.csv') ## change\n",
        "user_same = pd.read_csv('drive/My Drive/Ms Ciencia de datos/user-sim.csv') ## change\n",
        "\n",
        "# create the Spark Session\n",
        "spark = SparkSession.builder.getOrCreate()\n",
        "\n",
        "# create the Spark Context\n",
        "sc = spark.sparkContext\n",
        "\n",
        "triplets_file = 'https://static.turi.com/datasets/millionsong/10000.txt'\n",
        "song_df_1 = pd.read_table(triplets_file,header=None)\n",
        "song_df_1.columns = ['user_id', 'song_id', 'listen_count']\n",
        "song_df_1.to_csv('tripletas.csv')"
      ],
      "execution_count": 0,
      "outputs": [
        {
          "output_type": "stream",
          "text": [
            "Collecting pyspark\n",
            "\u001b[?25l  Downloading https://files.pythonhosted.org/packages/9a/5a/271c416c1c2185b6cb0151b29a91fff6fcaed80173c8584ff6d20e46b465/pyspark-2.4.5.tar.gz (217.8MB)\n",
            "\u001b[K     |████████████████████████████████| 217.8MB 58kB/s \n",
            "\u001b[?25hCollecting py4j==0.10.7\n",
            "\u001b[?25l  Downloading https://files.pythonhosted.org/packages/e3/53/c737818eb9a7dc32a7cd4f1396e787bd94200c3997c72c1dbe028587bd76/py4j-0.10.7-py2.py3-none-any.whl (197kB)\n",
            "\u001b[K     |████████████████████████████████| 204kB 45.0MB/s \n",
            "\u001b[?25hBuilding wheels for collected packages: pyspark\n",
            "  Building wheel for pyspark (setup.py) ... \u001b[?25l\u001b[?25hdone\n",
            "  Created wheel for pyspark: filename=pyspark-2.4.5-py2.py3-none-any.whl size=218257927 sha256=3fc81cebfa8de9601f79c295772592ec0e267c29efa7e6f15f8a04ef9c61d2b1\n",
            "  Stored in directory: /root/.cache/pip/wheels/bf/db/04/61d66a5939364e756eb1c1be4ec5bdce6e04047fc7929a3c3c\n",
            "Successfully built pyspark\n",
            "Installing collected packages: py4j, pyspark\n",
            "Successfully installed py4j-0.10.7 pyspark-2.4.5\n",
            "openjdk-8-jdk-headless is already the newest version (8u242-b08-0ubuntu3~18.04).\n",
            "0 upgraded, 0 newly installed, 0 to remove and 25 not upgraded.\n"
          ],
          "name": "stdout"
        },
        {
          "output_type": "stream",
          "text": [
            "/usr/local/lib/python3.6/dist-packages/statsmodels/tools/_testing.py:19: FutureWarning: pandas.util.testing is deprecated. Use the functions in the public API at pandas.testing instead.\n",
            "  import pandas.util.testing as tm\n"
          ],
          "name": "stderr"
        },
        {
          "output_type": "stream",
          "text": [
            "Go to this URL in a browser: https://accounts.google.com/o/oauth2/auth?client_id=947318989803-6bn6qk8qdgf4n4g3pfee6491hc0brc4i.apps.googleusercontent.com&redirect_uri=urn%3aietf%3awg%3aoauth%3a2.0%3aoob&response_type=code&scope=email%20https%3a%2f%2fwww.googleapis.com%2fauth%2fdocs.test%20https%3a%2f%2fwww.googleapis.com%2fauth%2fdrive%20https%3a%2f%2fwww.googleapis.com%2fauth%2fdrive.photos.readonly%20https%3a%2f%2fwww.googleapis.com%2fauth%2fpeopleapi.readonly\n",
            "\n",
            "Enter your authorization code:\n",
            "··········\n",
            "Mounted at /content/drive\n"
          ],
          "name": "stdout"
        }
      ]
    },
    {
      "cell_type": "markdown",
      "metadata": {
        "id": "8VtZZJuEC1Q7",
        "colab_type": "text"
      },
      "source": [
        "# Analisis correlación canciones"
      ]
    },
    {
      "cell_type": "markdown",
      "metadata": {
        "id": "c8r76O6TC5lo",
        "colab_type": "text"
      },
      "source": [
        "## Cuales son las canciones más parecidas?\n",
        "\n",
        "En general las canciones más parecidas son canciones del mismo artista y mismo album."
      ]
    },
    {
      "cell_type": "code",
      "metadata": {
        "id": "8dEt-xAwd9_E",
        "colab_type": "code",
        "outputId": "fe206657-f172-4c4d-cb2f-ee35568eda37",
        "colab": {
          "base_uri": "https://localhost:8080/",
          "height": 702
        }
      },
      "source": [
        "song_df_2_2=song_df_2.copy()\n",
        "#song_df_2_2.columns = ['song_id',]\n",
        "parecidas = song_same.merge(song_df_2,on='song_id').merge(song_df_2,left_on='song_id_2',right_on='song_id').sort_values('Jackard')\n",
        "parecidas.tail(10)"
      ],
      "execution_count": 0,
      "outputs": [
        {
          "output_type": "execute_result",
          "data": {
            "text/html": [
              "<div>\n",
              "<style scoped>\n",
              "    .dataframe tbody tr th:only-of-type {\n",
              "        vertical-align: middle;\n",
              "    }\n",
              "\n",
              "    .dataframe tbody tr th {\n",
              "        vertical-align: top;\n",
              "    }\n",
              "\n",
              "    .dataframe thead th {\n",
              "        text-align: right;\n",
              "    }\n",
              "</style>\n",
              "<table border=\"1\" class=\"dataframe\">\n",
              "  <thead>\n",
              "    <tr style=\"text-align: right;\">\n",
              "      <th></th>\n",
              "      <th>Unnamed: 0</th>\n",
              "      <th>song_id_x</th>\n",
              "      <th>song_id_2</th>\n",
              "      <th>Jackard</th>\n",
              "      <th>title_x</th>\n",
              "      <th>release_x</th>\n",
              "      <th>artist_name_x</th>\n",
              "      <th>year_x</th>\n",
              "      <th>song_id_y</th>\n",
              "      <th>title_y</th>\n",
              "      <th>release_y</th>\n",
              "      <th>artist_name_y</th>\n",
              "      <th>year_y</th>\n",
              "    </tr>\n",
              "  </thead>\n",
              "  <tbody>\n",
              "    <tr>\n",
              "      <th>43231</th>\n",
              "      <td>43047</td>\n",
              "      <td>SOJTWQT12AB018117B</td>\n",
              "      <td>SOZBARW12AB018118A</td>\n",
              "      <td>0.549451</td>\n",
              "      <td>SATORI</td>\n",
              "      <td>Live In Japan</td>\n",
              "      <td>Rodrigo y Gabriela</td>\n",
              "      <td>2006</td>\n",
              "      <td>SOZBARW12AB018118A</td>\n",
              "      <td>IXTAPA</td>\n",
              "      <td>Live In Japan</td>\n",
              "      <td>Rodrigo y Gabriela</td>\n",
              "      <td>2006</td>\n",
              "    </tr>\n",
              "    <tr>\n",
              "      <th>42638</th>\n",
              "      <td>30260</td>\n",
              "      <td>SOZBARW12AB018118A</td>\n",
              "      <td>SOJTWQT12AB018117B</td>\n",
              "      <td>0.549451</td>\n",
              "      <td>IXTAPA</td>\n",
              "      <td>Live In Japan</td>\n",
              "      <td>Rodrigo y Gabriela</td>\n",
              "      <td>2006</td>\n",
              "      <td>SOJTWQT12AB018117B</td>\n",
              "      <td>SATORI</td>\n",
              "      <td>Live In Japan</td>\n",
              "      <td>Rodrigo y Gabriela</td>\n",
              "      <td>2006</td>\n",
              "    </tr>\n",
              "    <tr>\n",
              "      <th>43221</th>\n",
              "      <td>8418</td>\n",
              "      <td>SOFEBGQ12AB017FAB6</td>\n",
              "      <td>SOTUJKY12AB018119F</td>\n",
              "      <td>0.562500</td>\n",
              "      <td>JUAN LOCO</td>\n",
              "      <td>Live In Japan</td>\n",
              "      <td>Rodrigo y Gabriela</td>\n",
              "      <td>2006</td>\n",
              "      <td>SOTUJKY12AB018119F</td>\n",
              "      <td>VIKING MAN</td>\n",
              "      <td>Live In Japan</td>\n",
              "      <td>Rodrigo y Gabriela</td>\n",
              "      <td>2008</td>\n",
              "    </tr>\n",
              "    <tr>\n",
              "      <th>44119</th>\n",
              "      <td>9159</td>\n",
              "      <td>SOTUJKY12AB018119F</td>\n",
              "      <td>SOFEBGQ12AB017FAB6</td>\n",
              "      <td>0.562500</td>\n",
              "      <td>VIKING MAN</td>\n",
              "      <td>Live In Japan</td>\n",
              "      <td>Rodrigo y Gabriela</td>\n",
              "      <td>2008</td>\n",
              "      <td>SOFEBGQ12AB017FAB6</td>\n",
              "      <td>JUAN LOCO</td>\n",
              "      <td>Live In Japan</td>\n",
              "      <td>Rodrigo y Gabriela</td>\n",
              "      <td>2006</td>\n",
              "    </tr>\n",
              "    <tr>\n",
              "      <th>27343</th>\n",
              "      <td>40114</td>\n",
              "      <td>SONFMXQ12AF72A8391</td>\n",
              "      <td>SORRCWF12A8C1414F0</td>\n",
              "      <td>0.576271</td>\n",
              "      <td>End Of The Road</td>\n",
              "      <td>Music For The Motion Picture Into The Wild</td>\n",
              "      <td>Eddie Vedder</td>\n",
              "      <td>2007</td>\n",
              "      <td>SORRCWF12A8C1414F0</td>\n",
              "      <td>Setting Forth</td>\n",
              "      <td>Music For The Motion Picture Into The Wild</td>\n",
              "      <td>Eddie Vedder</td>\n",
              "      <td>2007</td>\n",
              "    </tr>\n",
              "    <tr>\n",
              "      <th>27321</th>\n",
              "      <td>24036</td>\n",
              "      <td>SORRCWF12A8C1414F0</td>\n",
              "      <td>SONFMXQ12AF72A8391</td>\n",
              "      <td>0.576271</td>\n",
              "      <td>Setting Forth</td>\n",
              "      <td>Music For The Motion Picture Into The Wild</td>\n",
              "      <td>Eddie Vedder</td>\n",
              "      <td>2007</td>\n",
              "      <td>SONFMXQ12AF72A8391</td>\n",
              "      <td>End Of The Road</td>\n",
              "      <td>Music For The Motion Picture Into The Wild</td>\n",
              "      <td>Eddie Vedder</td>\n",
              "      <td>2007</td>\n",
              "    </tr>\n",
              "    <tr>\n",
              "      <th>27313</th>\n",
              "      <td>2676</td>\n",
              "      <td>SOMIMPH12A8C14152D</td>\n",
              "      <td>SONFMXQ12AF72A8391</td>\n",
              "      <td>0.648148</td>\n",
              "      <td>The Wolf</td>\n",
              "      <td>Music For The Motion Picture Into The Wild</td>\n",
              "      <td>Eddie Vedder</td>\n",
              "      <td>2007</td>\n",
              "      <td>SONFMXQ12AF72A8391</td>\n",
              "      <td>End Of The Road</td>\n",
              "      <td>Music For The Motion Picture Into The Wild</td>\n",
              "      <td>Eddie Vedder</td>\n",
              "      <td>2007</td>\n",
              "    </tr>\n",
              "    <tr>\n",
              "      <th>37088</th>\n",
              "      <td>40113</td>\n",
              "      <td>SONFMXQ12AF72A8391</td>\n",
              "      <td>SOMIMPH12A8C14152D</td>\n",
              "      <td>0.648148</td>\n",
              "      <td>End Of The Road</td>\n",
              "      <td>Music For The Motion Picture Into The Wild</td>\n",
              "      <td>Eddie Vedder</td>\n",
              "      <td>2007</td>\n",
              "      <td>SOMIMPH12A8C14152D</td>\n",
              "      <td>The Wolf</td>\n",
              "      <td>Music For The Motion Picture Into The Wild</td>\n",
              "      <td>Eddie Vedder</td>\n",
              "      <td>2007</td>\n",
              "    </tr>\n",
              "    <tr>\n",
              "      <th>40486</th>\n",
              "      <td>8950</td>\n",
              "      <td>SODGZMS12AB01884F5</td>\n",
              "      <td>SOOKHAJ12A58A7E737</td>\n",
              "      <td>0.658537</td>\n",
              "      <td>L'Esperanza</td>\n",
              "      <td>L\u0019Esperanza</td>\n",
              "      <td>Airscape</td>\n",
              "      <td>1999</td>\n",
              "      <td>SOOKHAJ12A58A7E737</td>\n",
              "      <td>You're In My Heart</td>\n",
              "      <td>Back Home Again</td>\n",
              "      <td>Rhonda Vincent</td>\n",
              "      <td>2001</td>\n",
              "    </tr>\n",
              "    <tr>\n",
              "      <th>40470</th>\n",
              "      <td>16323</td>\n",
              "      <td>SOOKHAJ12A58A7E737</td>\n",
              "      <td>SODGZMS12AB01884F5</td>\n",
              "      <td>0.658537</td>\n",
              "      <td>You're In My Heart</td>\n",
              "      <td>Back Home Again</td>\n",
              "      <td>Rhonda Vincent</td>\n",
              "      <td>2001</td>\n",
              "      <td>SODGZMS12AB01884F5</td>\n",
              "      <td>L'Esperanza</td>\n",
              "      <td>L\u0019Esperanza</td>\n",
              "      <td>Airscape</td>\n",
              "      <td>1999</td>\n",
              "    </tr>\n",
              "  </tbody>\n",
              "</table>\n",
              "</div>"
            ],
            "text/plain": [
              "       Unnamed: 0           song_id_x  ...       artist_name_y  year_y\n",
              "43231       43047  SOJTWQT12AB018117B  ...  Rodrigo y Gabriela    2006\n",
              "42638       30260  SOZBARW12AB018118A  ...  Rodrigo y Gabriela    2006\n",
              "43221        8418  SOFEBGQ12AB017FAB6  ...  Rodrigo y Gabriela    2008\n",
              "44119        9159  SOTUJKY12AB018119F  ...  Rodrigo y Gabriela    2006\n",
              "27343       40114  SONFMXQ12AF72A8391  ...        Eddie Vedder    2007\n",
              "27321       24036  SORRCWF12A8C1414F0  ...        Eddie Vedder    2007\n",
              "27313        2676  SOMIMPH12A8C14152D  ...        Eddie Vedder    2007\n",
              "37088       40113  SONFMXQ12AF72A8391  ...        Eddie Vedder    2007\n",
              "40486        8950  SODGZMS12AB01884F5  ...      Rhonda Vincent    2001\n",
              "40470       16323  SOOKHAJ12A58A7E737  ...            Airscape    1999\n",
              "\n",
              "[10 rows x 13 columns]"
            ]
          },
          "metadata": {
            "tags": []
          },
          "execution_count": 2
        }
      ]
    },
    {
      "cell_type": "code",
      "metadata": {
        "id": "whTyMNGpFtNt",
        "colab_type": "code",
        "colab": {}
      },
      "source": [
        "YouTubeVideo('AoYjaiA4DVo')"
      ],
      "execution_count": 0,
      "outputs": []
    },
    {
      "cell_type": "code",
      "metadata": {
        "id": "RnWIcoZKFtl_",
        "colab_type": "code",
        "colab": {}
      },
      "source": [
        "YouTubeVideo('nttU4KbcC-A')"
      ],
      "execution_count": 0,
      "outputs": []
    },
    {
      "cell_type": "markdown",
      "metadata": {
        "id": "ez5hyjHYDJFL",
        "colab_type": "text"
      },
      "source": [
        "## Mi Banda favorita es X (Muse)... Cuales son las canciones más parecidas de ellos?"
      ]
    },
    {
      "cell_type": "code",
      "metadata": {
        "id": "gAyeEmOG-tTY",
        "colab_type": "code",
        "colab": {}
      },
      "source": [
        "parecidas[(parecidas.artist_name_x==\"Muse\")].tail(4)"
      ],
      "execution_count": 0,
      "outputs": []
    },
    {
      "cell_type": "markdown",
      "metadata": {
        "id": "B3Cl7o-WDW8p",
        "colab_type": "text"
      },
      "source": [
        " Aparentemente todo lo de Muse se parece mucho a lo de Muse (bastante lógico, no?). Esto además es un buen resultado dado que en ningun momento sabiamos esto de la información con la que computamos las similaridades.\n",
        "\n",
        " ## Tambien nos podemos preguntar por cuales canciones son parecidas a Muse que no sean de Muse"
      ]
    },
    {
      "cell_type": "code",
      "metadata": {
        "id": "7Vv9BVs099nX",
        "colab_type": "code",
        "colab": {}
      },
      "source": [
        "parecidas[(parecidas.artist_name_y!=\"Muse\") & (parecidas.artist_name_x==\"Muse\")].tail(4)"
      ],
      "execution_count": 0,
      "outputs": []
    },
    {
      "cell_type": "code",
      "metadata": {
        "id": "-IWWRpveFG9z",
        "colab_type": "code",
        "colab": {}
      },
      "source": [
        "YouTubeVideo('dKiayHSR4DI')\n"
      ],
      "execution_count": 0,
      "outputs": []
    },
    {
      "cell_type": "code",
      "metadata": {
        "id": "2fzZIdNTFHcn",
        "colab_type": "code",
        "colab": {}
      },
      "source": [
        "YouTubeVideo('ENHhN7QhXS4')"
      ],
      "execution_count": 0,
      "outputs": []
    },
    {
      "cell_type": "markdown",
      "metadata": {
        "id": "nsJR_PhLD3rH",
        "colab_type": "text"
      },
      "source": [
        "## Cuales son las canciones más parecidas a mi canción favorita?"
      ]
    },
    {
      "cell_type": "code",
      "metadata": {
        "id": "bfDyFP5sdfb5",
        "colab_type": "code",
        "colab": {}
      },
      "source": [
        "parecidas[(parecidas.title_x==\"Butterflies and Hurricanes\")].tail(10)"
      ],
      "execution_count": 0,
      "outputs": []
    },
    {
      "cell_type": "code",
      "metadata": {
        "id": "ZfmkYvdUEV3h",
        "colab_type": "code",
        "colab": {}
      },
      "source": [
        "\n",
        "YouTubeVideo('hucz0qsXEUQ')\n",
        "\n"
      ],
      "execution_count": 0,
      "outputs": []
    },
    {
      "cell_type": "code",
      "metadata": {
        "id": "89WrECmdFAK5",
        "colab_type": "code",
        "colab": {}
      },
      "source": [
        "YouTubeVideo('XPYLIy3FWpk')"
      ],
      "execution_count": 0,
      "outputs": []
    },
    {
      "cell_type": "markdown",
      "metadata": {
        "id": "MivEXPzBHLaM",
        "colab_type": "text"
      },
      "source": [
        "# Analisis similaridad de usuarios"
      ]
    },
    {
      "cell_type": "code",
      "metadata": {
        "id": "iV1gedwJHPrR",
        "colab_type": "code",
        "outputId": "0ee0bfd1-4b5c-4df6-d3f7-77c35469c316",
        "colab": {
          "base_uri": "https://localhost:8080/",
          "height": 386
        }
      },
      "source": [
        "triplets_file = 'tripletas.csv'\n",
        "\n",
        "\n",
        "song_df = spark.read.csv(triplets_file, header='true')\n",
        "pareja=user_same.sort_values('Jackard').tail(5).head(1)\n",
        "pareja=user_same[user_same.Jackard<0.95].sort_values('Jackard').tail(1)\n",
        "u1=pareja.user_id.values[0]\n",
        "u2=pareja.user_id_2.values[0]\n",
        "\n",
        "listas=song_df.filter((song_df.user_id==u1) | (song_df.user_id==u2)).toPandas()\n",
        "listas.listen_count = [int(x) for x in listas.listen_count ]\n",
        "df = listas.merge(song_df_2,on='song_id')\n",
        "df.to_csv('user_jack_95.csv')\n",
        "\n",
        "\n",
        "\n",
        "\n",
        "sns.catplot(y = \"title\",       # x variable name\n",
        "            x = \"listen_count\",       # y variable name\n",
        "            hue = \"user_id\",  # elements in each group variable name\n",
        "            data = df,     # dataframe to plot\n",
        "            kind = \"bar\",\n",
        "            legend=False)\n"
      ],
      "execution_count": 0,
      "outputs": [
        {
          "output_type": "execute_result",
          "data": {
            "text/plain": [
              "<seaborn.axisgrid.FacetGrid at 0x7f2762210748>"
            ]
          },
          "metadata": {
            "tags": []
          },
          "execution_count": 8
        },
        {
          "output_type": "display_data",
          "data": {
            "image/png": "[encoded data removed]",
            "text/plain": [
              "<Figure size 360x360 with 1 Axes>"
            ]
          },
          "metadata": {
            "tags": [],
            "needs_background": "light"
          }
        }
      ]
    },
    {
      "cell_type": "code",
      "metadata": {
        "id": "ZvVJ6OHXKt3N",
        "colab_type": "code",
        "colab": {}
      },
      "source": [
        "pareja=user_same[user_same.Jackard<0.7].sort_values('Jackard').tail(1)\n",
        "u1=pareja.user_id.values[0]\n",
        "u2=pareja.user_id_2.values[0]\n",
        "\n",
        "listas=song_df.filter((song_df.user_id==u1) | (song_df.user_id==u2)).toPandas()\n",
        "listas.listen_count = [int(x) for x in listas.listen_count ]\n",
        "df = listas.merge(song_df_2,on='song_id')\n",
        "df.to_csv('user_jack_70.csv')\n",
        "\n",
        "import matplotlib.pyplot as plt\n",
        "%matplotlib inline\n",
        "plt.figure(figsize = (32,10))\n",
        "\n",
        "\n",
        "ax = sns.catplot(y = \"title\",       # x variable name\n",
        "            x = \"listen_count\",       # y variable name\n",
        "            hue = \"user_id\",  # elements in each group variable name\n",
        "            data = df,     # dataframe to plot\n",
        "            kind = \"bar\",\n",
        "            legend=False)"
      ],
      "execution_count": 0,
      "outputs": []
    },
    {
      "cell_type": "code",
      "metadata": {
        "id": "56wFkgRYOqWo",
        "colab_type": "code",
        "colab": {}
      },
      "source": [
        "pareja=user_same[user_same.Jackard<0.5].sort_values('Jackard').tail(1)\n",
        "u1=pareja.user_id.values[0]\n",
        "u2=pareja.user_id_2.values[0]\n",
        "\n",
        "listas=song_df.filter((song_df.user_id==u1) | (song_df.user_id==u2)).toPandas()\n",
        "listas.listen_count = [int(x) for x in listas.listen_count ]\n",
        "df = listas.merge(song_df_2,on='song_id')\n",
        "df.to_csv('user_jack_50.csv')\n",
        "\n",
        "import matplotlib.pyplot as plt\n",
        "%matplotlib inline\n",
        "plt.figure(figsize = (32,10))\n",
        "\n",
        "\n",
        "ax = sns.catplot(y = \"title\",       # x variable name\n",
        "            x = \"listen_count\",       # y variable name\n",
        "            hue = \"user_id\",  # elements in each group variable name\n",
        "            data = df,     # dataframe to plot\n",
        "            kind = \"bar\",\n",
        "            legend=False)"
      ],
      "execution_count": 0,
      "outputs": []
    },
    {
      "cell_type": "code",
      "metadata": {
        "id": "C3grlRwfQmKO",
        "colab_type": "code",
        "colab": {}
      },
      "source": [
        "pareja=user_same[user_same.Jackard<0.1].sort_values('Jackard').tail(1)\n",
        "u1=pareja.user_id.values[0]\n",
        "u2=pareja.user_id_2.values[0]\n",
        "\n",
        "listas=song_df.filter((song_df.user_id==u1) | (song_df.user_id==u2)).toPandas()\n",
        "listas.listen_count = [int(x) for x in listas.listen_count ]\n",
        "df = listas.merge(song_df_2,on='song_id')\n",
        "df.to_csv('user_jack_10.csv')\n",
        "\n",
        "import matplotlib.pyplot as plt\n",
        "%matplotlib inline\n",
        "plt.figure(figsize = (32,10))\n",
        "\n",
        "\n",
        "ax = sns.catplot(y = \"title\",       # x variable name\n",
        "            x = \"listen_count\",       # y variable name\n",
        "            hue = \"user_id\",  # elements in each group variable name\n",
        "            data = df,     # dataframe to plot\n",
        "            kind = \"bar\",\n",
        "            legend=False)"
      ],
      "execution_count": 0,
      "outputs": []
    }
  ]
}