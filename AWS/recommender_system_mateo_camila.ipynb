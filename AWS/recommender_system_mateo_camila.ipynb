{
 "cells": [
  {
   "cell_type": "code",
   "execution_count": 1,
   "metadata": {
    "scrolled": true
   },
   "outputs": [
    {
     "data": {
      "application/vnd.jupyter.widget-view+json": {
       "model_id": "b722c03593004a8dae50a81d1fe7b28a",
       "version_major": 2,
       "version_minor": 0
      },
      "text/plain": [
       "VBox()"
      ]
     },
     "metadata": {},
     "output_type": "display_data"
    },
    {
     "name": "stdout",
     "output_type": "stream",
     "text": [
      "Starting Spark application\n"
     ]
    },
    {
     "data": {
      "text/html": [
       "<table>\n",
       "<tr><th>ID</th><th>YARN Application ID</th><th>Kind</th><th>State</th><th>Spark UI</th><th>Driver log</th><th>Current session?</th></tr><tr><td>1</td><td>application_1586650214723_0002</td><td>pyspark</td><td>idle</td><td><a target=\"_blank\" href=\"http://ip-172-31-38-147.ec2.internal:20888/proxy/application_1586650214723_0002/\">Link</a></td><td><a target=\"_blank\" href=\"http://ip-172-31-39-145.ec2.internal:8042/node/containerlogs/container_1586650214723_0002_01_000001/livy\">Link</a></td><td>✔</td></tr></table>"
      ],
      "text/plain": [
       "<IPython.core.display.HTML object>"
      ]
     },
     "metadata": {},
     "output_type": "display_data"
    },
    {
     "data": {
      "application/vnd.jupyter.widget-view+json": {
       "model_id": "",
       "version_major": 2,
       "version_minor": 0
      },
      "text/plain": [
       "FloatProgress(value=0.0, bar_style='info', description='Progress:', layout=Layout(height='25px', width='50%'),…"
      ]
     },
     "metadata": {},
     "output_type": "display_data"
    },
    {
     "name": "stdout",
     "output_type": "stream",
     "text": [
      "SparkSession available as 'spark'.\n"
     ]
    },
    {
     "data": {
      "application/vnd.jupyter.widget-view+json": {
       "model_id": "",
       "version_major": 2,
       "version_minor": 0
      },
      "text/plain": [
       "FloatProgress(value=0.0, bar_style='info', description='Progress:', layout=Layout(height='25px', width='50%'),…"
      ]
     },
     "metadata": {},
     "output_type": "display_data"
    },
    {
     "name": "stdout",
     "output_type": "stream",
     "text": [
      "Collecting pandas\n",
      "  Using cached pandas-1.0.3-cp36-cp36m-manylinux1_x86_64.whl (10.0 MB)\n",
      "Collecting python-dateutil>=2.6.1\n",
      "  Using cached python_dateutil-2.8.1-py2.py3-none-any.whl (227 kB)\n",
      "Requirement already satisfied: numpy>=1.13.3 in /usr/local/lib64/python3.6/site-packages (from pandas) (1.14.5)\n",
      "Requirement already satisfied: pytz>=2017.2 in /usr/local/lib/python3.6/site-packages (from pandas) (2019.3)\n",
      "Requirement already satisfied: six>=1.5 in /usr/local/lib/python3.6/site-packages (from python-dateutil>=2.6.1->pandas) (1.13.0)\n",
      "Installing collected packages: python-dateutil, pandas\n",
      "Successfully installed pandas-1.0.3 python-dateutil-2.8.1\n",
      "\n",
      "Collecting matplotlib\n",
      "  Using cached matplotlib-3.2.1-cp36-cp36m-manylinux1_x86_64.whl (12.4 MB)\n",
      "Collecting pyparsing!=2.0.4,!=2.1.2,!=2.1.6,>=2.0.1\n",
      "  Using cached pyparsing-2.4.7-py2.py3-none-any.whl (67 kB)\n",
      "Requirement already satisfied: numpy>=1.11 in /usr/local/lib64/python3.6/site-packages (from matplotlib) (1.14.5)\n",
      "Requirement already satisfied: python-dateutil>=2.1 in /mnt/tmp/1586660270095-0/lib/python3.6/site-packages (from matplotlib) (2.8.1)\n",
      "Collecting kiwisolver>=1.0.1\n",
      "  Using cached kiwisolver-1.2.0-cp36-cp36m-manylinux1_x86_64.whl (88 kB)\n",
      "Collecting cycler>=0.10\n",
      "  Using cached cycler-0.10.0-py2.py3-none-any.whl (6.5 kB)\n",
      "Requirement already satisfied: six>=1.5 in /usr/local/lib/python3.6/site-packages (from python-dateutil>=2.1->matplotlib) (1.13.0)\n",
      "Installing collected packages: pyparsing, kiwisolver, cycler, matplotlib\n",
      "Successfully installed cycler-0.10.0 kiwisolver-1.2.0 matplotlib-3.2.1 pyparsing-2.4.7\n",
      "\n",
      "Collecting IPython\n",
      "  Using cached ipython-7.13.0-py3-none-any.whl (780 kB)\n",
      "Collecting traitlets>=4.2\n",
      "  Using cached traitlets-4.3.3-py2.py3-none-any.whl (75 kB)\n",
      "Collecting pexpect; sys_platform != \"win32\"\n",
      "  Using cached pexpect-4.8.0-py2.py3-none-any.whl (59 kB)\n",
      "Collecting decorator\n",
      "  Using cached decorator-4.4.2-py2.py3-none-any.whl (9.2 kB)\n",
      "Collecting pygments\n",
      "  Using cached Pygments-2.6.1-py3-none-any.whl (914 kB)\n",
      "Collecting pickleshare\n",
      "  Using cached pickleshare-0.7.5-py2.py3-none-any.whl (6.9 kB)\n",
      "Processing /mnt/var/lib/livy/.cache/pip/wheels/b4/cb/f1/d142b3bb45d488612cf3943d8a1db090eb95e6687045ba61d1/backcall-0.1.0-py3-none-any.whl\n",
      "Collecting prompt-toolkit!=3.0.0,!=3.0.1,<3.1.0,>=2.0.0\n",
      "  Using cached prompt_toolkit-3.0.5-py3-none-any.whl (351 kB)\n",
      "Requirement already satisfied: setuptools>=18.5 in /mnt/tmp/1586660270095-0/lib/python3.6/site-packages (from IPython) (46.1.3)\n",
      "Collecting jedi>=0.10\n",
      "  Using cached jedi-0.16.0-py2.py3-none-any.whl (1.1 MB)\n",
      "Collecting ipython-genutils\n",
      "  Using cached ipython_genutils-0.2.0-py2.py3-none-any.whl (26 kB)\n",
      "Requirement already satisfied: six in /usr/local/lib/python3.6/site-packages (from traitlets>=4.2->IPython) (1.13.0)\n",
      "Collecting ptyprocess>=0.5\n",
      "  Using cached ptyprocess-0.6.0-py2.py3-none-any.whl (39 kB)\n",
      "Collecting wcwidth\n",
      "  Using cached wcwidth-0.1.9-py2.py3-none-any.whl (19 kB)\n",
      "Collecting parso>=0.5.2\n",
      "  Using cached parso-0.6.2-py2.py3-none-any.whl (97 kB)\n",
      "Installing collected packages: ipython-genutils, decorator, traitlets, ptyprocess, pexpect, pygments, pickleshare, backcall, wcwidth, prompt-toolkit, parso, jedi, IPython\n",
      "Successfully installed IPython-7.13.0 backcall-0.1.0 decorator-4.4.2 ipython-genutils-0.2.0 jedi-0.16.0 parso-0.6.2 pexpect-4.8.0 pickleshare-0.7.5 prompt-toolkit-3.0.5 ptyprocess-0.6.0 pygments-2.6.1 traitlets-4.3.3 wcwidth-0.1.9\n",
      "\n",
      "Collecting boto3\n",
      "  Using cached boto3-1.12.39-py2.py3-none-any.whl (128 kB)\n",
      "Collecting s3transfer<0.4.0,>=0.3.0\n",
      "  Using cached s3transfer-0.3.3-py2.py3-none-any.whl (69 kB)\n",
      "Collecting botocore<1.16.0,>=1.15.39\n",
      "  Using cached botocore-1.15.39-py2.py3-none-any.whl (6.1 MB)\n",
      "Requirement already satisfied: jmespath<1.0.0,>=0.7.1 in /usr/local/lib/python3.6/site-packages (from boto3) (0.9.4)\n",
      "Collecting docutils<0.16,>=0.10\n",
      "  Using cached docutils-0.15.2-py3-none-any.whl (547 kB)\n",
      "Collecting urllib3<1.26,>=1.20; python_version != \"3.4\"\n",
      "  Using cached urllib3-1.25.8-py2.py3-none-any.whl (125 kB)\n",
      "Requirement already satisfied: python-dateutil<3.0.0,>=2.1 in /mnt/tmp/1586660270095-0/lib/python3.6/site-packages (from botocore<1.16.0,>=1.15.39->boto3) (2.8.1)\n",
      "Requirement already satisfied: six>=1.5 in /usr/local/lib/python3.6/site-packages (from python-dateutil<3.0.0,>=2.1->botocore<1.16.0,>=1.15.39->boto3) (1.13.0)\n",
      "Installing collected packages: docutils, urllib3, botocore, s3transfer, boto3\n",
      "Successfully installed boto3-1.12.39 botocore-1.15.39 docutils-0.15.2 s3transfer-0.3.3 urllib3-1.25.8"
     ]
    }
   ],
   "source": [
    "sc.install_pypi_package(\"pandas\") #Install pandas version 0.25.1 \n",
    "sc.install_pypi_package(\"matplotlib\", \"https://pypi.org/simple\") \n",
    "sc.install_pypi_package(\"IPython\", \"https://pypi.org/simple\") \n",
    "sc.install_pypi_package(\"boto3\")"
   ]
  },
  {
   "cell_type": "code",
   "execution_count": 2,
   "metadata": {},
   "outputs": [
    {
     "data": {
      "application/vnd.jupyter.widget-view+json": {
       "model_id": "ffb3c5e32e35493f804bccd23a76dd95",
       "version_major": 2,
       "version_minor": 0
      },
      "text/plain": [
       "VBox()"
      ]
     },
     "metadata": {},
     "output_type": "display_data"
    },
    {
     "data": {
      "application/vnd.jupyter.widget-view+json": {
       "model_id": "",
       "version_major": 2,
       "version_minor": 0
      },
      "text/plain": [
       "FloatProgress(value=0.0, bar_style='info', description='Progress:', layout=Layout(height='25px', width='50%'),…"
      ]
     },
     "metadata": {},
     "output_type": "display_data"
    }
   ],
   "source": [
    "from pyspark.sql import *\n",
    "from pyspark.sql.functions import *\n",
    "from pyspark import SparkContext\n",
    "import boto3\n",
    "from io import StringIO\n",
    "from pyspark.sql.window import Window\n",
    "from pyspark.sql.functions import rank, col\n",
    "import pandas as pd\n",
    "from pyspark.sql.types import FloatType, ArrayType, StringType"
   ]
  },
  {
   "cell_type": "code",
   "execution_count": 3,
   "metadata": {},
   "outputs": [
    {
     "data": {
      "application/vnd.jupyter.widget-view+json": {
       "model_id": "cd819511e00646308ebeacb5a7c8501f",
       "version_major": 2,
       "version_minor": 0
      },
      "text/plain": [
       "VBox()"
      ]
     },
     "metadata": {},
     "output_type": "display_data"
    },
    {
     "data": {
      "application/vnd.jupyter.widget-view+json": {
       "model_id": "",
       "version_major": 2,
       "version_minor": 0
      },
      "text/plain": [
       "FloatProgress(value=0.0, bar_style='info', description='Progress:', layout=Layout(height='25px', width='50%'),…"
      ]
     },
     "metadata": {},
     "output_type": "display_data"
    }
   ],
   "source": [
    "client = boto3.client('s3', region_name='us-east-1')\n",
    "bucket = 'recommendation-system-md' # already created on S3"
   ]
  },
  {
   "cell_type": "code",
   "execution_count": 4,
   "metadata": {},
   "outputs": [
    {
     "data": {
      "application/vnd.jupyter.widget-view+json": {
       "model_id": "c23a00edd45447c08e46bddd670b343a",
       "version_major": 2,
       "version_minor": 0
      },
      "text/plain": [
       "VBox()"
      ]
     },
     "metadata": {},
     "output_type": "display_data"
    },
    {
     "data": {
      "application/vnd.jupyter.widget-view+json": {
       "model_id": "",
       "version_major": 2,
       "version_minor": 0
      },
      "text/plain": [
       "FloatProgress(value=0.0, bar_style='info', description='Progress:', layout=Layout(height='25px', width='50%'),…"
      ]
     },
     "metadata": {},
     "output_type": "display_data"
    }
   ],
   "source": [
    "triplets_file_path ='s3a://recommendation-system-md/tripletas.csv'\n",
    "\n",
    "song_df = spark.read.csv(triplets_file_path, header='true')"
   ]
  },
  {
   "cell_type": "markdown",
   "metadata": {},
   "source": [
    "# User-User"
   ]
  },
  {
   "cell_type": "code",
   "execution_count": 5,
   "metadata": {},
   "outputs": [
    {
     "data": {
      "application/vnd.jupyter.widget-view+json": {
       "model_id": "84fd3b30a7bf46a2b94c4c8d5bcd0006",
       "version_major": 2,
       "version_minor": 0
      },
      "text/plain": [
       "VBox()"
      ]
     },
     "metadata": {},
     "output_type": "display_data"
    },
    {
     "data": {
      "application/vnd.jupyter.widget-view+json": {
       "model_id": "",
       "version_major": 2,
       "version_minor": 0
      },
      "text/plain": [
       "FloatProgress(value=0.0, bar_style='info', description='Progress:', layout=Layout(height='25px', width='50%'),…"
      ]
     },
     "metadata": {},
     "output_type": "display_data"
    }
   ],
   "source": [
    "user_mean = song_df.groupBy('user_id').agg(mean('listen_count').alias(\"media\"))\n",
    "song_mean = song_df.join(user_mean,on='user_id', how='inner')\n",
    "song_mean = song_mean.withColumn('count_mean',col('listen_count')/col('media'))\n",
    "only_jams_full=song_mean.filter(song_mean.listen_count>song_mean.media).select(['user_id','song_id'])\n",
    "(only_jams, only_jams_test) = only_jams_full.randomSplit([0.9, 0.1], 42)\n",
    "# only_jams = only_jams.filter(only_jams.listen_count>only_jams.media).select(['user_id','song_id'])"
   ]
  },
  {
   "cell_type": "code",
   "execution_count": 23,
   "metadata": {},
   "outputs": [
    {
     "data": {
      "application/vnd.jupyter.widget-view+json": {
       "model_id": "50b1e9c74a5e4cc1b1ad4439a2e29859",
       "version_major": 2,
       "version_minor": 0
      },
      "text/plain": [
       "VBox()"
      ]
     },
     "metadata": {},
     "output_type": "display_data"
    },
    {
     "data": {
      "application/vnd.jupyter.widget-view+json": {
       "model_id": "",
       "version_major": 2,
       "version_minor": 0
      },
      "text/plain": [
       "FloatProgress(value=0.0, bar_style='info', description='Progress:', layout=Layout(height='25px', width='50%'),…"
      ]
     },
     "metadata": {},
     "output_type": "display_data"
    }
   ],
   "source": [
    "def news(s1,s2):\n",
    "    if s1 is None:\n",
    "        aux = s2\n",
    "    else:\n",
    "        aux = list(set(s2).difference(set(s1)))\n",
    "    return aux\n",
    "\n",
    "news_udf = udf(lambda y: news(y[0],y[1]), ArrayType(StringType()))"
   ]
  },
  {
   "cell_type": "code",
   "execution_count": 7,
   "metadata": {},
   "outputs": [
    {
     "data": {
      "application/vnd.jupyter.widget-view+json": {
       "model_id": "1ca0e4b50e6c4c278e3e5ab8d2a940a2",
       "version_major": 2,
       "version_minor": 0
      },
      "text/plain": [
       "VBox()"
      ]
     },
     "metadata": {},
     "output_type": "display_data"
    },
    {
     "data": {
      "application/vnd.jupyter.widget-view+json": {
       "model_id": "",
       "version_major": 2,
       "version_minor": 0
      },
      "text/plain": [
       "FloatProgress(value=0.0, bar_style='info', description='Progress:', layout=Layout(height='25px', width='50%'),…"
      ]
     },
     "metadata": {},
     "output_type": "display_data"
    }
   ],
   "source": [
    "train  = only_jams.groupBy(\"user_id\").agg(collect_set(\"song_id\").alias('Train')).select(['user_id','Train'])\n",
    "test = only_jams_test.groupBy(\"user_id\").agg(collect_set(\"song_id\").alias('Test')).select(['user_id','Test'])\n",
    "all_songs = song_mean.groupBy(\"user_id\").agg(collect_set(\"song_id\").alias('All')).select(['user_id','All'])"
   ]
  },
  {
   "cell_type": "code",
   "execution_count": 8,
   "metadata": {},
   "outputs": [
    {
     "data": {
      "application/vnd.jupyter.widget-view+json": {
       "model_id": "f72372b262524f9bab27f67068b9343c",
       "version_major": 2,
       "version_minor": 0
      },
      "text/plain": [
       "VBox()"
      ]
     },
     "metadata": {},
     "output_type": "display_data"
    },
    {
     "data": {
      "application/vnd.jupyter.widget-view+json": {
       "model_id": "",
       "version_major": 2,
       "version_minor": 0
      },
      "text/plain": [
       "FloatProgress(value=0.0, bar_style='info', description='Progress:', layout=Layout(height='25px', width='50%'),…"
      ]
     },
     "metadata": {},
     "output_type": "display_data"
    },
    {
     "name": "stdout",
     "output_type": "stream",
     "text": [
      "+--------------------+--------------------+--------------------+--------------------+\n",
      "|             user_id|                 All|                Test|               Train|\n",
      "+--------------------+--------------------+--------------------+--------------------+\n",
      "|0087ff24898df109a...|[SOHFVJR12AF72A98...|[SOGBOQX12A8C139DF7]|[SOQRKXE12A8C138A...|\n",
      "|0097e6d8f988dc58f...|[SOEDJNI12A58A80B...|                null|[SOEDJNI12A58A80B...|\n",
      "+--------------------+--------------------+--------------------+--------------------+\n",
      "only showing top 2 rows"
     ]
    }
   ],
   "source": [
    "union_all = all_songs.join(test, how = \"left\", on = 'user_id').join(train, how = \"left\", on = 'user_id')\n",
    "union_all.show(2)"
   ]
  },
  {
   "cell_type": "code",
   "execution_count": 25,
   "metadata": {},
   "outputs": [
    {
     "data": {
      "application/vnd.jupyter.widget-view+json": {
       "model_id": "62e4f2b66df54e9f839ed048a6339fb5",
       "version_major": 2,
       "version_minor": 0
      },
      "text/plain": [
       "VBox()"
      ]
     },
     "metadata": {},
     "output_type": "display_data"
    },
    {
     "data": {
      "application/vnd.jupyter.widget-view+json": {
       "model_id": "",
       "version_major": 2,
       "version_minor": 0
      },
      "text/plain": [
       "FloatProgress(value=0.0, bar_style='info', description='Progress:', layout=Layout(height='25px', width='50%'),…"
      ]
     },
     "metadata": {},
     "output_type": "display_data"
    }
   ],
   "source": [
    "union_all_required = union_all.withColumn('All_Test', news_udf(array('Test','All')))\\\n",
    "                    .withColumn('All-Test-Train', news_udf(array('Train', 'All_Test'))).select(['user_id','Test','Train','All-Test-Train'])"
   ]
  },
  {
   "cell_type": "code",
   "execution_count": 26,
   "metadata": {},
   "outputs": [
    {
     "data": {
      "application/vnd.jupyter.widget-view+json": {
       "model_id": "6eb962228c7449e7ad0f588d38ddcb14",
       "version_major": 2,
       "version_minor": 0
      },
      "text/plain": [
       "VBox()"
      ]
     },
     "metadata": {},
     "output_type": "display_data"
    },
    {
     "data": {
      "application/vnd.jupyter.widget-view+json": {
       "model_id": "",
       "version_major": 2,
       "version_minor": 0
      },
      "text/plain": [
       "FloatProgress(value=0.0, bar_style='info', description='Progress:', layout=Layout(height='25px', width='50%'),…"
      ]
     },
     "metadata": {},
     "output_type": "display_data"
    },
    {
     "name": "stdout",
     "output_type": "stream",
     "text": [
      "{'ResponseMetadata': {'RequestId': '406A68749C70557E', 'HostId': 'nt4JPBcSObvae1k/o2BDABxTLxy3Ju2eUKktuN4YtJ92Cgd8CQKMKfPR2EQcUZLuiDhMMA/oqZY=', 'HTTPStatusCode': 200, 'HTTPHeaders': {'x-amz-id-2': 'nt4JPBcSObvae1k/o2BDABxTLxy3Ju2eUKktuN4YtJ92Cgd8CQKMKfPR2EQcUZLuiDhMMA/oqZY=', 'x-amz-request-id': '406A68749C70557E', 'date': 'Sun, 12 Apr 2020 03:16:57 GMT', 'etag': '\"235d0a38b75d3e119e405a25c160d558\"', 'content-length': '0', 'server': 'AmazonS3'}, 'RetryAttempts': 0}, 'ETag': '\"235d0a38b75d3e119e405a25c160d558\"'}"
     ]
    }
   ],
   "source": [
    "csv_buffer = StringIO()\n",
    "union_all_required.toPandas().to_csv(csv_buffer)\n",
    "client.put_object(Bucket=bucket, Key='union_all_required.csv',Body=csv_buffer.getvalue())"
   ]
  },
  {
   "cell_type": "code",
   "execution_count": null,
   "metadata": {},
   "outputs": [],
   "source": []
  },
  {
   "cell_type": "code",
   "execution_count": null,
   "metadata": {},
   "outputs": [],
   "source": [
    "csv_buffer = StringIO()\n",
    "resultado.toPandas().to_csv(csv_buffer)\n",
    "client.put_object(Bucket=bucket, Key='resultado_user_user.csv',Body=csv_buffer.getvalue())"
   ]
  },
  {
   "cell_type": "markdown",
   "metadata": {},
   "source": [
    "# Song-Song"
   ]
  },
  {
   "cell_type": "code",
   "execution_count": null,
   "metadata": {},
   "outputs": [],
   "source": [
    "jams_set_users = only_jams.groupby(\"song_id\").agg(collect_set(\"user_id\").alias('Set_users')).limit(5000)# Para cada cancion tenemos el grupo de usuarios que le gustan\n",
    "\n",
    "jams_set_users_2 = jams_set_users.withColumnRenamed('song_id','song_id_2')\n",
    "\n",
    "jams_set_users_2 = jams_set_users_2.withColumnRenamed('Set_users','Set_users_2')\n",
    "\n",
    "def jaccard_similarity(list1, list2):\n",
    "    intersection = len(list(set(list1).intersection(list2)))\n",
    "    union = (len(list1) + len(list2)) - intersection\n",
    "    return float(intersection) / union\n",
    "\n",
    "def news(s1,s2):\n",
    "    return list(set(s2).difference(set(s1)))\n",
    "\n",
    "jack = udf(lambda x: jaccard_similarity(x[0],x[1]), FloatType())\n",
    "\n",
    "news_udf = udf(lambda y: news(y[0],y[1]), ArrayType(StringType()))\n",
    "\n",
    "### El siguiente bloque es para solo calcular jaccard entre las canciones que esten el al menos el jamlist de 2 usuarios\n",
    "only_jams2 = only_jams.withColumnRenamed('song_id','song_id_2')\n",
    "\n",
    "double_jams = only_jams.join(only_jams2,on='user_id')\n",
    "\n",
    "double_jams = double_jams.filter(double_jams.song_id!=double_jams.song_id_2)\n",
    "\n",
    "initial_double_songs = double_jams.groupBy('song_id','song_id_2').agg(count('*').alias('number_common'))\n",
    "\n",
    "initial_double_songs = initial_double_songs.filter(initial_double_songs.number_common>1)\n",
    "\n",
    "initial_double_songs = initial_double_songs.select('song_id','song_id_2')\n",
    "\n",
    "#####\n",
    "\n",
    "\n",
    "double_users = initial_double_songs.join(jams_set_users, on = 'song_id').join(jams_set_users_2, on = 'song_id_2')## en el mismo dataframe ya tenemos la lista de usuarios a los que le gusta de cada par de cnaciones que nos interesan\n",
    "\n",
    "double_users = double_users.filter(double_users.song_id!=double_users.song_id_2)\n",
    "\n",
    "initial_rec=double_users.withColumn('Jackard', jack(array('Set_users', 'Set_users_2'))) ### Calculo jackard para las dos canciones\n",
    "\n",
    "initial_rec = initial_rec.filter(initial_rec.Jackard>0) ### Solo me interesan los que le gustan\n",
    "\n",
    "window = Window.partitionBy(initial_rec['song_id']).orderBy(initial_rec['Jackard'].desc())\n",
    "\n",
    "same_song = initial_rec.select('*', rank().over(window).alias('rank')).\\\n",
    "                  filter(col('rank') <= 10).select('song_id','song_id_2','Jackard') ### Para cada cancion me quedo con las 10 más similares a ella\n",
    "\n",
    "#same_song.toPandas.to_csv('song_song_similarity.csv') # Esto es lo más lento, por eso mejor guardarlo\n",
    "\n",
    "user_jams = only_jams.groupby(\"user_id\").agg(collect_set(\"song_id\").alias('Set_songs')) ### Para cada usuario veo cual es su lista de jams\n",
    "\n",
    "resultado = only_jams.join(same_song,on='song_id').groupby([\"user_id\",\"song_id_2\"]).\\\n",
    "          agg(sum(\"Jackard\").\\\n",
    "          alias('score_recomendacion')).\\\n",
    "          sort(desc(\"score_recomendacion\")).\\\n",
    "          groupby(\"user_id\").agg(collect_set(\"song_id_2\").alias('Set_recomendaciones')).\\\n",
    "          join(user_jams, on = 'user_id').\\\n",
    "          withColumn('recomendacion', news_udf(array('Set_Songs', 'Set_recomendaciones'))).\\\n",
    "          select('user_id','recomendacion') ### segun las canciones que le gustan a cada persona, le recomiendo todo lo que \"es igual\" segun same songs y que no está en su jams list\n",
    "\n"
   ]
  },
  {
   "cell_type": "code",
   "execution_count": null,
   "metadata": {},
   "outputs": [],
   "source": [
    "csv_buffer = StringIO()\n",
    "resultado.toPandas().to_csv(csv_buffer)\n",
    "client.put_object(Bucket=bucket, Key='resultado_item_item_2.csv',Body=csv_buffer.getvalue())"
   ]
  }
 ],
 "metadata": {
  "kernelspec": {
   "display_name": "PySpark",
   "language": "",
   "name": "pysparkkernel"
  },
  "language_info": {
   "codemirror_mode": {
    "name": "python",
    "version": 2
   },
   "mimetype": "text/x-python",
   "name": "pyspark",
   "pygments_lexer": "python2"
  }
 },
 "nbformat": 4,
 "nbformat_minor": 4
}
